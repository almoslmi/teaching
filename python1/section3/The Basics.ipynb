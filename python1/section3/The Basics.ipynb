{
 "cells": [
  {
   "cell_type": "markdown",
   "metadata": {},
   "source": [
    "# The Basics\n",
    "\n",
    "This section is going to be the first of many times we cover this type of stuff.  Some things to rememember.  You don't have to memorize or even learn any of this now.  Just get a feel for the language and soak up what you can.  If something doesn't make sense, write it in your journal and then ask me right away.  You'll write it down so you can look back and see how cool you are in a week/month/year/decade.\n",
    "\n",
    " 0. [Everything Is An Object](#Everything-Is-An-Object)\n",
    " 1. [Strings](#Strings)\n",
    " 2. [Numbers](#Numbers)\n",
    " 3. [Booleans](#Booleans)\n",
    " 4. [Functions](#Functions)\n",
    " 5. [Lists](#Lists)\n",
    " 6. [Dictionaries](#Dictionaries)"
   ]
  },
  {
   "cell_type": "markdown",
   "metadata": {},
   "source": [
    "# Everything Is An Object"
   ]
  },
  {
   "cell_type": "markdown",
   "metadata": {},
   "source": [
    "Remember this from the previous section?\n",
    "```\n",
    "ned = turtle.Turtle()\n",
    "ned.right(25)\n",
    "```\n",
    "\n",
    "Objects are just things.  We'll talk all about this more later.  Objects can do things.  An action associated with an object is called a method\n",
    "```\n",
    "ned.right(25)\n",
    "```\n",
    "Ned can turn right!"
   ]
  },
  {
   "cell_type": "code",
   "execution_count": null,
   "metadata": {
    "collapsed": false
   },
   "outputs": [],
   "source": [
    "# Everything is an object!!  Strings are objects!\n",
    "\"Banana Cream Pie\".swapcase()"
   ]
  },
  {
   "cell_type": "code",
   "execution_count": null,
   "metadata": {
    "collapsed": false
   },
   "outputs": [],
   "source": [
    "# Everything is an object!! Numbers are objects!\n",
    "6.5.is_integer()"
   ]
  },
  {
   "cell_type": "code",
   "execution_count": null,
   "metadata": {
    "collapsed": false
   },
   "outputs": [],
   "source": [
    "# Everything is an object!! Booleans are objects!\n",
    "True.__or__(False)"
   ]
  },
  {
   "cell_type": "code",
   "execution_count": null,
   "metadata": {
    "collapsed": false
   },
   "outputs": [],
   "source": [
    "# Everything is an object!! Functions are objects!\n",
    "def hello():\n",
    "    return \"Hello!\"\n",
    "hello.__call__() # This is a silly example, but it's true!"
   ]
  },
  {
   "cell_type": "code",
   "execution_count": null,
   "metadata": {
    "collapsed": false
   },
   "outputs": [],
   "source": [
    "# Everything is an object!! Lists are objects!\n",
    "[1, 2, 3].pop()"
   ]
  },
  {
   "cell_type": "code",
   "execution_count": null,
   "metadata": {
    "collapsed": false
   },
   "outputs": [],
   "source": [
    "# Everything is an object!! Dictionaries are objects!\n",
    "{\"a\": 4, \"b\": 6}.get(\"a\")"
   ]
  },
  {
   "cell_type": "markdown",
   "metadata": {},
   "source": [
    "# Strings\n",
    "---"
   ]
  },
  {
   "cell_type": "markdown",
   "metadata": {},
   "source": [
    "## What Are They?"
   ]
  },
  {
   "cell_type": "code",
   "execution_count": null,
   "metadata": {
    "collapsed": false
   },
   "outputs": [],
   "source": [
    "# Strings are called that because they take a bunch\n",
    "# of characters and 'string' them together in a nice\n",
    "# and easy to use format.  You can define them several ways.\n",
    "this = \"double quotes\"\n",
    "that = 'single quotes'\n",
    "wow = \"\"\"\n",
    "Multiple\n",
    "Lines\n",
    "Dude!\"\"\"\n",
    "this_in_that = \"single 'quotes' in double quotes\"\n",
    "that_in_this = 'double \"quotes\" in single quotes'\n",
    "both_in_wow = \"\"\"\n",
    "Both 'single quotes'\n",
    "and \"double quotes\"\n",
    "in triple quotes\n",
    "\"\"\"\n",
    "print(both_in_wow)"
   ]
  },
  {
   "cell_type": "markdown",
   "metadata": {},
   "source": [
    "## Indexing"
   ]
  },
  {
   "cell_type": "markdown",
   "metadata": {},
   "source": [
    "![Indexing example](indexing.png)"
   ]
  },
  {
   "cell_type": "code",
   "execution_count": null,
   "metadata": {
    "collapsed": false
   },
   "outputs": [],
   "source": [
    "# Indexing is how you can pull out sections of strings\n",
    "beans = \"beans\"\n",
    "a = beans[2] # [start, (optional end or start + 1), (optional step or 1)]\n",
    "ea = beans[1:3] # indexing grabs the letters in between the indices.\n",
    "bas = beans[0:5:2] # Step will step over characters\n",
    "eans = beans[1:] # Leaving out one of the numbers means go all the way to the end\n",
    "bean = beans[:4] # You can leave out one or the other\n",
    "snaeb = beans[::-1] # You can leave out both of the first two as well.  negative steps are allowed!\n",
    "\n",
    "beans_copy = beans[:] # Quick way to copy a string\n",
    "blank = beans[3:2] # If start is after finish, then no characters get selected\n",
    "\n",
    "print(a, ea, bas, eans, bean, snaeb, beans_copy, blank)\n",
    "\n",
    "# Watch out though, you can't change strings once you create them\n",
    "permanent = \"Don't change me bro\"\n",
    "permanent[4] = \"s\"\n"
   ]
  },
  {
   "cell_type": "code",
   "execution_count": null,
   "metadata": {
    "collapsed": true
   },
   "outputs": [],
   "source": [
    "# Quick Check: \n",
    "big = \"supercalifragilisticexpialidocious\"\n",
    "result = # Fill Me in\n",
    "assert result == \"seaf\""
   ]
  },
  {
   "cell_type": "markdown",
   "metadata": {},
   "source": [
    "## Read the Manual: [Strings](https://docs.python.org/3/library/stdtypes.html#text-sequence-type-str)"
   ]
  },
  {
   "cell_type": "markdown",
   "metadata": {},
   "source": [
    "# Numbers\n",
    "---"
   ]
  },
  {
   "cell_type": "markdown",
   "metadata": {},
   "source": [
    "## What Are They?"
   ]
  },
  {
   "cell_type": "code",
   "execution_count": null,
   "metadata": {
    "collapsed": false
   },
   "outputs": [],
   "source": [
    "# There are multiple types of numbers:\n",
    "integer = 27\n",
    "float_number = 31.2 # Float is short for 'floating point', which is a type of decimal\n",
    "complex_number = complex('1+3j') # Careful, no spaces in the creation of complex numbers!\n",
    "print(integer, float_number, complex_number)"
   ]
  },
  {
   "cell_type": "markdown",
   "metadata": {},
   "source": [
    "## What Can You Do With Them?"
   ]
  },
  {
   "cell_type": "code",
   "execution_count": null,
   "metadata": {
    "collapsed": false
   },
   "outputs": [],
   "source": [
    "a = 4 + 2 # Addition\n",
    "b = 4 - 2.5 # Subtraction\n",
    "c = 5 * 6 # Multiplication\n",
    "d = 5/2 # Division\n",
    "e = 4**2 # Exponents\n",
    "f = 10 % 3 # Modulo (i.e. what is the remainder of 10/3: 1)\n",
    "print(a, b, c, d, e, f, sep=\", \")"
   ]
  },
  {
   "cell_type": "code",
   "execution_count": null,
   "metadata": {
    "collapsed": false
   },
   "outputs": [],
   "source": [
    "# Two types of division!\n",
    "decimal_divide = 27/2 # One slash acts as you expect.  Float output.\n",
    "integer_divide = 2//5 # Two slashes is integer division, goes down to the nearest integer\n",
    "neg_int_divide = -2//5 # Still goes down!\n",
    "print(decimal_divide, integer_divide, neg_int_divide)"
   ]
  },
  {
   "cell_type": "markdown",
   "metadata": {},
   "source": [
    "## Read the Manual: [Numbers](https://docs.python.org/3/library/stdtypes.html#numeric-types-int-float-complex)"
   ]
  },
  {
   "cell_type": "markdown",
   "metadata": {},
   "source": [
    "# Booleans\n",
    "---"
   ]
  },
  {
   "cell_type": "markdown",
   "metadata": {},
   "source": [
    "## What Are They?"
   ]
  },
  {
   "cell_type": "code",
   "execution_count": null,
   "metadata": {
    "collapsed": false
   },
   "outputs": [],
   "source": [
    "# Booleans are values with only two options\n",
    "t = True\n",
    "f = False\n",
    "# You can get them using comparisons\n",
    "t1 = (3 == 2 + 1)\n",
    "t2 = (5 > 2)\n",
    "f1 = (10000 < 4)\n",
    "f2 = (0 >= 1)\n",
    "f3 = (4 != 4) # ! means not\n",
    "print(t1, t2, f1, f2, f3, sep=\"\\n\")"
   ]
  },
  {
   "cell_type": "code",
   "execution_count": null,
   "metadata": {
    "collapsed": false
   },
   "outputs": [],
   "source": [
    "# You can combine them, kind of like numbers!\n",
    "t3 = (4 > 3 and 2 < 3) # AND results in True only if both sides are True\n",
    "f4 = (4 > 3 and 5 < 2)\n",
    "f5 = (1 == 2 and False)\n",
    "t4 = (1 != 17 or 6 >= 7) # OR results in True if either side is True\n",
    "t5 = (True or False)\n",
    "f6 = (not True)               # NOT returns the opposite (i.e. NOT True is False and NOT False is True)\n",
    "f7 = not not False       # NOT also works repeatedly\n",
    "print(t3, f4, f5, t4, t5, f6, f7, sep=\"\\n\")"
   ]
  },
  {
   "cell_type": "code",
   "execution_count": null,
   "metadata": {
    "collapsed": true
   },
   "outputs": [],
   "source": [
    "# Quick Check\n",
    "complicated = (not (3 > 1) and (2 != 2 or 6 == (2 + 3)))\n",
    "result = (complicated == ) # Fill Me In\n",
    "assert result == True"
   ]
  },
  {
   "cell_type": "markdown",
   "metadata": {},
   "source": [
    "## Read the Manual: [Booleans](https://docs.python.org/3/library/stdtypes.html#truth-value-testing)"
   ]
  },
  {
   "cell_type": "markdown",
   "metadata": {},
   "source": [
    "# Functions\n",
    "---"
   ]
  },
  {
   "cell_type": "markdown",
   "metadata": {},
   "source": [
    "## What Are They?"
   ]
  },
  {
   "cell_type": "code",
   "execution_count": null,
   "metadata": {
    "collapsed": false
   },
   "outputs": [],
   "source": [
    "# Functions are recipes of code that you can reuse!\n",
    "# They can take 0 or more inputs and produce zero or more outputs\n",
    "# Define them with the keyword 'def' and then the function name.\n",
    "# Then put (input1, input2, ...) and finally a colon ':'\n",
    "\n",
    "def add(num1, num2):\n",
    "    # Inside here is called a 'code block'\n",
    "    # It is indented 4 spaces.  This is how Python knows you're writing code inside the function\n",
    "    # Once you are done with the function, go back to the previous level of indentation\n",
    "    result = num1 + num2\n",
    "    \n",
    "    # Use the keyword 'return' to kick a value back out and exit the function\n",
    "    return result\n",
    "    # Everything after return gets skipped\n",
    "    print(\"I'm a big doody head\")\n",
    "\n",
    "add(6, 3)"
   ]
  },
  {
   "cell_type": "code",
   "execution_count": null,
   "metadata": {
    "collapsed": false
   },
   "outputs": [],
   "source": [
    "# You can store the output value in a variable for later\n",
    "def calculate_square(value):\n",
    "    return value**2\n",
    "\n",
    "first = calculate_square(6)\n",
    "second = calculate_square(7)\n",
    "add(first, second)"
   ]
  },
  {
   "cell_type": "markdown",
   "metadata": {},
   "source": [
    "## Read the Manual: [Functions](https://docs.python.org/3/tutorial/controlflow.html#defining-functions)"
   ]
  },
  {
   "cell_type": "markdown",
   "metadata": {},
   "source": [
    "# Lists\n",
    "---"
   ]
  },
  {
   "cell_type": "markdown",
   "metadata": {},
   "source": [
    "## What Are They?"
   ]
  },
  {
   "cell_type": "code",
   "execution_count": null,
   "metadata": {
    "collapsed": false
   },
   "outputs": [],
   "source": [
    "# Lists are ordered collections of values\n",
    "# They behave a lot like strings in how you deal with them, but you can\n",
    "# change their values\n",
    "numbers = [1, 4, 7, 19, 2000, 2.3]\n",
    "print(numbers[1:3])\n",
    "numbers[4] = -6\n",
    "print(numbers)"
   ]
  },
  {
   "cell_type": "code",
   "execution_count": null,
   "metadata": {
    "collapsed": false
   },
   "outputs": [],
   "source": [
    "# They can contain any values: strings, numbers, booleans...\n",
    "jumbled = [\"soup\", 16, False, \"banana\"]\n",
    "print(jumbled[::-1])"
   ]
  },
  {
   "cell_type": "markdown",
   "metadata": {},
   "source": [
    "## Warning"
   ]
  },
  {
   "cell_type": "code",
   "execution_count": null,
   "metadata": {
    "collapsed": false
   },
   "outputs": [],
   "source": [
    "# Careful though!  Lists are just references to the values in them.\n",
    "# Be careful when assigning lists to variables\n",
    "a = [1, 2, 3, 4, 5]\n",
    "b = a\n",
    "b[3] = \"BIG BOY\"\n",
    "print(\"See how b changed a: \", a)\n",
    "# If you need a copy, use the full slice [:] pattern\n",
    "c = a[:] # This copies all of the values into the new list\n",
    "c[3] = \"smol boy\"\n",
    "print(\"C changed: \", c)\n",
    "print(\"A didn't: \", a)"
   ]
  },
  {
   "cell_type": "markdown",
   "metadata": {},
   "source": [
    "## Read the Manual: [Lists](https://docs.python.org/3/library/stdtypes.html#lists)"
   ]
  },
  {
   "cell_type": "markdown",
   "metadata": {},
   "source": [
    "# Dictionaries\n",
    "---"
   ]
  },
  {
   "cell_type": "markdown",
   "metadata": {},
   "source": [
    "## What Are They?"
   ]
  },
  {
   "cell_type": "code",
   "execution_count": null,
   "metadata": {
    "collapsed": false
   },
   "outputs": [],
   "source": [
    "# Dictionaries are collections, similar to lists\n",
    "# Instead of just being able to access them via position in line\n",
    "# You access them with a keyword\n",
    "a = {\n",
    "    \"name\": \"Ryan Palo\",\n",
    "    \"password\": \"python_is_the_best\",\n",
    "    \"age\": \"pretty young\",\n",
    "    \"coolness\": \"pretty cool\"\n",
    "}\n",
    "print(a[\"name\"])\n",
    "\n",
    "# You'll get a problem if you try a keyword that doesn't exist though\n",
    "print(a[\"favorite soup\"])"
   ]
  },
  {
   "cell_type": "markdown",
   "metadata": {},
   "source": [
    "We'll use these a lot more later, but for now...\n",
    "## Read the Manual: [Dictionaries](https://docs.python.org/3/library/stdtypes.html#mapping-types-dict)"
   ]
  },
  {
   "cell_type": "code",
   "execution_count": null,
   "metadata": {
    "collapsed": true
   },
   "outputs": [],
   "source": []
  }
 ],
 "metadata": {
  "kernelspec": {
   "display_name": "Python 3",
   "language": "python",
   "name": "python3"
  },
  "language_info": {
   "codemirror_mode": {
    "name": "ipython",
    "version": 3
   },
   "file_extension": ".py",
   "mimetype": "text/x-python",
   "name": "python",
   "nbconvert_exporter": "python",
   "pygments_lexer": "ipython3",
   "version": "3.6.1"
  }
 },
 "nbformat": 4,
 "nbformat_minor": 2
}
