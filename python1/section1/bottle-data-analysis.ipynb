{
 "cells": [
  {
   "cell_type": "markdown",
   "metadata": {},
   "source": [
    "### Let's get the data imported."
   ]
  },
  {
   "cell_type": "code",
   "execution_count": 18,
   "metadata": {
    "collapsed": false
   },
   "outputs": [
    {
     "data": {
      "text/html": [
       "<div>\n",
       "<table border=\"1\" class=\"dataframe\">\n",
       "  <thead>\n",
       "    <tr style=\"text-align: right;\">\n",
       "      <th></th>\n",
       "      <th>Group #</th>\n",
       "      <th>Pre-Flight Mass (g)</th>\n",
       "      <th>Number of Fins</th>\n",
       "      <th>Fin Shape</th>\n",
       "      <th>Cone Height (cm)</th>\n",
       "      <th>Flight Time (sec)</th>\n",
       "    </tr>\n",
       "  </thead>\n",
       "  <tbody>\n",
       "    <tr>\n",
       "      <th>0</th>\n",
       "      <td>1 (Payton)</td>\n",
       "      <td>100.3</td>\n",
       "      <td>3</td>\n",
       "      <td>pointed</td>\n",
       "      <td>16.3</td>\n",
       "      <td>3.09</td>\n",
       "    </tr>\n",
       "    <tr>\n",
       "      <th>1</th>\n",
       "      <td>2 (Ellie)</td>\n",
       "      <td>92.9</td>\n",
       "      <td>5</td>\n",
       "      <td>curved/straight</td>\n",
       "      <td>24.5</td>\n",
       "      <td>3.94</td>\n",
       "    </tr>\n",
       "    <tr>\n",
       "      <th>2</th>\n",
       "      <td>3 (Maddi)</td>\n",
       "      <td>88.1</td>\n",
       "      <td>4</td>\n",
       "      <td>triangle</td>\n",
       "      <td>9.0</td>\n",
       "      <td>3.87</td>\n",
       "    </tr>\n",
       "    <tr>\n",
       "      <th>3</th>\n",
       "      <td>4 (Diego)</td>\n",
       "      <td>94.3</td>\n",
       "      <td>3</td>\n",
       "      <td>cut off triangle</td>\n",
       "      <td>33.0</td>\n",
       "      <td>4.39</td>\n",
       "    </tr>\n",
       "    <tr>\n",
       "      <th>4</th>\n",
       "      <td>5 (Jaden)</td>\n",
       "      <td>82.5</td>\n",
       "      <td>4</td>\n",
       "      <td>irregular shape</td>\n",
       "      <td>17.0</td>\n",
       "      <td>4.14</td>\n",
       "    </tr>\n",
       "  </tbody>\n",
       "</table>\n",
       "</div>"
      ],
      "text/plain": [
       "      Group #  Pre-Flight Mass (g)  Number of Fins         Fin Shape  \\\n",
       "0  1 (Payton)                100.3               3           pointed   \n",
       "1   2 (Ellie)                 92.9               5   curved/straight   \n",
       "2   3 (Maddi)                 88.1               4          triangle   \n",
       "3   4 (Diego)                 94.3               3  cut off triangle   \n",
       "4   5 (Jaden)                 82.5               4   irregular shape   \n",
       "\n",
       "   Cone Height (cm)  Flight Time (sec)  \n",
       "0              16.3               3.09  \n",
       "1              24.5               3.94  \n",
       "2               9.0               3.87  \n",
       "3              33.0               4.39  \n",
       "4              17.0               4.14  "
      ]
     },
     "execution_count": 18,
     "metadata": {},
     "output_type": "execute_result"
    }
   ],
   "source": [
    "import pandas as pd\n",
    "import matplotlib.pyplot as plt\n",
    "\n",
    "data = pd.read_csv('bottle-rocket-data.csv')\n",
    "data.head()"
   ]
  },
  {
   "cell_type": "markdown",
   "metadata": {},
   "source": [
    "### Next, how about some plots!"
   ]
  },
  {
   "cell_type": "code",
   "execution_count": 14,
   "metadata": {
    "collapsed": false
   },
   "outputs": [
    {
     "data": {
      "image/png": "[encoded data removed]",
      "text/plain": [
       "<matplotlib.figure.Figure at 0x10fefc710>"
      ]
     },
     "metadata": {},
     "output_type": "display_data"
    }
   ],
   "source": [
    "plt.plot(data[\"Pre-Flight Mass (g)\"], data[\"Flight Time (sec)\"], \"ro\")\n",
    "plt.xlabel(\"Pre-Flight Mass (g)\")\n",
    "plt.ylabel(\"Flight Time (s)\")\n",
    "plt.show()"
   ]
  },
  {
   "cell_type": "markdown",
   "metadata": {},
   "source": [
    "### Hmmm... Not a lot of correlation.  How about cone height?"
   ]
  },
  {
   "cell_type": "code",
   "execution_count": 16,
   "metadata": {
    "collapsed": false,
    "deletable": true,
    "editable": true
   },
   "outputs": [
    {
     "data": {
      "image/png": "[encoded data removed]",
      "text/plain": [
       "<matplotlib.figure.Figure at 0x110076080>"
      ]
     },
     "metadata": {},
     "output_type": "display_data"
    }
   ],
   "source": [
    "plt.plot(data[\"Cone Height (cm)\"], data[\"Flight Time (sec)\"], \"ro\")\n",
    "plt.xlabel(\"Cone Height (cm)\")\n",
    "plt.ylabel(\"Flight Time (s)\")\n",
    "plt.show()"
   ]
  },
  {
   "cell_type": "markdown",
   "metadata": {},
   "source": [
    "### What about statistics?"
   ]
  },
  {
   "cell_type": "code",
   "execution_count": 17,
   "metadata": {
    "collapsed": false
   },
   "outputs": [
    {
     "data": {
      "text/html": [
       "<div>\n",
       "<table border=\"1\" class=\"dataframe\">\n",
       "  <thead>\n",
       "    <tr style=\"text-align: right;\">\n",
       "      <th></th>\n",
       "      <th>Pre-Flight Mass (g)</th>\n",
       "      <th>Number of Fins</th>\n",
       "      <th>Cone Height (cm)</th>\n",
       "      <th>Flight Time (sec)</th>\n",
       "    </tr>\n",
       "  </thead>\n",
       "  <tbody>\n",
       "    <tr>\n",
       "      <th>count</th>\n",
       "      <td>12.000000</td>\n",
       "      <td>12.000000</td>\n",
       "      <td>12.000000</td>\n",
       "      <td>12.000000</td>\n",
       "    </tr>\n",
       "    <tr>\n",
       "      <th>mean</th>\n",
       "      <td>88.545833</td>\n",
       "      <td>3.666667</td>\n",
       "      <td>17.991667</td>\n",
       "      <td>4.110000</td>\n",
       "    </tr>\n",
       "    <tr>\n",
       "      <th>std</th>\n",
       "      <td>20.838202</td>\n",
       "      <td>2.424621</td>\n",
       "      <td>9.280719</td>\n",
       "      <td>0.846941</td>\n",
       "    </tr>\n",
       "    <tr>\n",
       "      <th>min</th>\n",
       "      <td>49.200000</td>\n",
       "      <td>0.000000</td>\n",
       "      <td>0.000000</td>\n",
       "      <td>2.910000</td>\n",
       "    </tr>\n",
       "    <tr>\n",
       "      <th>25%</th>\n",
       "      <td>78.875000</td>\n",
       "      <td>3.000000</td>\n",
       "      <td>13.200000</td>\n",
       "      <td>3.585000</td>\n",
       "    </tr>\n",
       "    <tr>\n",
       "      <th>50%</th>\n",
       "      <td>85.750000</td>\n",
       "      <td>3.500000</td>\n",
       "      <td>17.750000</td>\n",
       "      <td>4.040000</td>\n",
       "    </tr>\n",
       "    <tr>\n",
       "      <th>75%</th>\n",
       "      <td>95.800000</td>\n",
       "      <td>4.000000</td>\n",
       "      <td>24.625000</td>\n",
       "      <td>4.415000</td>\n",
       "    </tr>\n",
       "    <tr>\n",
       "      <th>max</th>\n",
       "      <td>133.650000</td>\n",
       "      <td>10.000000</td>\n",
       "      <td>33.000000</td>\n",
       "      <td>5.690000</td>\n",
       "    </tr>\n",
       "  </tbody>\n",
       "</table>\n",
       "</div>"
      ],
      "text/plain": [
       "       Pre-Flight Mass (g)  Number of Fins  Cone Height (cm)  \\\n",
       "count            12.000000       12.000000         12.000000   \n",
       "mean             88.545833        3.666667         17.991667   \n",
       "std              20.838202        2.424621          9.280719   \n",
       "min              49.200000        0.000000          0.000000   \n",
       "25%              78.875000        3.000000         13.200000   \n",
       "50%              85.750000        3.500000         17.750000   \n",
       "75%              95.800000        4.000000         24.625000   \n",
       "max             133.650000       10.000000         33.000000   \n",
       "\n",
       "       Flight Time (sec)  \n",
       "count          12.000000  \n",
       "mean            4.110000  \n",
       "std             0.846941  \n",
       "min             2.910000  \n",
       "25%             3.585000  \n",
       "50%             4.040000  \n",
       "75%             4.415000  \n",
       "max             5.690000  "
      ]
     },
     "execution_count": 17,
     "metadata": {},
     "output_type": "execute_result"
    }
   ],
   "source": [
    "data.describe()"
   ]
  },
  {
   "cell_type": "code",
   "execution_count": null,
   "metadata": {
    "collapsed": true
   },
   "outputs": [],
   "source": []
  }
 ],
 "metadata": {
  "kernelspec": {
   "display_name": "Python 3",
   "language": "python",
   "name": "python3"
  },
  "language_info": {
   "codemirror_mode": {
    "name": "ipython",
    "version": 3
   },
   "file_extension": ".py",
   "mimetype": "text/x-python",
   "name": "python",
   "nbconvert_exporter": "python",
   "pygments_lexer": "ipython3",
   "version": "3.6.1"
  }
 },
 "nbformat": 4,
 "nbformat_minor": 2
}
